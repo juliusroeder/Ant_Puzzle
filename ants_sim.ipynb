{
 "cells": [
  {
   "cell_type": "code",
   "execution_count": 1,
   "outputs": [],
   "source": [
    "import random\n",
    "from multiprocess import Pool\n",
    "import numpy as np\n",
    "import itertools\n",
    "from typing import Callable"
   ],
   "metadata": {
    "collapsed": false,
    "pycharm": {
     "name": "#%%\n"
    }
   }
  },
  {
   "cell_type": "code",
   "execution_count": 2,
   "metadata": {
    "collapsed": true,
    "pycharm": {
     "name": "#%%\n"
    }
   },
   "outputs": [],
   "source": [
    "class Ant:\n",
    "    def __init__(self, max_lifespan: int =float('inf')): #int type does not define inf.\n",
    "        \"\"\"\n",
    "        Ant object.\n",
    "        :param max_lifespan: In case of an spatially unbounded problem this variable defines how long the ant survives until the simulation stops.\n",
    "        \"\"\"\n",
    "        self.x_position: int = 0 #current x, y positions\n",
    "        self.y_position: int = 0\n",
    "        self.food: bool = False #found food?\n",
    "        self.num_movements: int = 0 #time passed in seconds\n",
    "\n",
    "        #define max runtime for unbounded problems\n",
    "        self.is_alive: bool = True\n",
    "        self.max_lifespan: int = max_lifespan\n",
    "\n",
    "    def move(self, movement: list) -> None:\n",
    "        \"\"\"\n",
    "        Moves the ant by x, y;\n",
    "        If the current position is [10,0] and you pass in [0,10], the new position will be [10, 10]\n",
    "        :param movement: x, y change\n",
    "        :return: None\n",
    "        \"\"\"\n",
    "        self.x_position += movement[0]\n",
    "        self.y_position += movement[1]\n",
    "        self.num_movements += 1\n",
    "\n",
    "    def found_food(self, food_function: Callable[[int, int], bool]) -> None:\n",
    "        \"\"\"\n",
    "        Checks if the ant reached a point with food.\n",
    "        :param food_function: A callable object that receives the current x, y coordinates and returns a bool indicating if food is present.\n",
    "        :return: None\n",
    "        \"\"\"\n",
    "        self.food = food_function(self.x_position, self.y_position)\n",
    "\n",
    "        if (self.num_movements > self.max_lifespan) and not self.food:\n",
    "            self.is_alive = False\n",
    "\n"
   ]
  },
  {
   "cell_type": "code",
   "execution_count": 3,
   "outputs": [],
   "source": [
    "direction_movement = {\"north\":[0,10], \"south\": [0,-10], \"east\":[10,0], \"west\":[-10,0]} #x and y shifts for each movement type\n",
    "directions = list(direction_movement.keys())\n",
    "\n",
    "def simulate(ant: Ant, food_func: Callable[[int, int], bool]) -> list:\n",
    "    \"\"\"\n",
    "    Simulates the random walk of an ant.\n",
    "    :param ant: requires an Ant object.\n",
    "    :param food_func: A callable object that receives the current x, y coordinates and returns a bool.\n",
    "    :return: A list containing if the ant is alive and the number of movements it took until its found food. If its dead the number of movements equals the maximum lifespan of an ant.\n",
    "    \"\"\"\n",
    "    while not ant.food and ant.is_alive:\n",
    "        movement = direction_movement[random.choice(directions)] #picks a random direction for the ant\n",
    "        ant.move(movement)\n",
    "        ant.found_food(food_func)\n",
    "    return [ant.is_alive, ant.num_movements]\n"
   ],
   "metadata": {
    "collapsed": false,
    "pycharm": {
     "name": "#%%\n"
    }
   }
  },
  {
   "cell_type": "markdown",
   "source": [
    "# Question 1\n",
    "If the food is located on east-west lines 20cm to the north and 20cm to the south,\n",
    "as well as on north-south lines 20cm to the east and 20cm to the west from the anthill,\n",
    "how long will it take the ant to reach it on average?"
   ],
   "metadata": {
    "collapsed": false,
    "pycharm": {
     "name": "#%% md\n"
    }
   }
  },
  {
   "cell_type": "code",
   "execution_count": 8,
   "outputs": [
    {
     "name": "stdout",
     "output_type": "stream",
     "text": [
      "Average time taken:  4.497802\n",
      "% alive ants:  1.0\n"
     ]
    }
   ],
   "source": [
    "num_ants = 1000000\n",
    "\n",
    "# food bound for Q1\n",
    "def square_food(x: int, y: int) -> bool:\n",
    "    return (abs(x) == 20 or abs(y) == 20)\n",
    "\n",
    "ants = [Ant() for i in range(num_ants)]\n",
    "p = Pool(8)\n",
    "res = p.starmap(simulate, zip(ants, itertools.repeat(square_food))) #starmap = multi-argument version of map\n",
    "\n",
    "# getting all alive ants; important for unbounded problems\n",
    "results = [r[1] for r in res if r[0]]\n",
    "\n",
    "print(\"Average time taken: \", np.sum(results)/len(results))\n",
    "print(\"% alive ants: \", len(results)/num_ants)"
   ],
   "metadata": {
    "collapsed": false,
    "pycharm": {
     "name": "#%%\n"
    }
   }
  },
  {
   "cell_type": "markdown",
   "source": [
    "# Question 2\n",
    "What is the average time the ant will reach food if it is located only\n",
    "on a diagonal line passing through (10cm, 0cm) and (0cm, 10cm) points?"
   ],
   "metadata": {
    "collapsed": false,
    "pycharm": {
     "name": "#%% md\n"
    }
   }
  },
  {
   "cell_type": "code",
   "execution_count": 5,
   "outputs": [
    {
     "name": "stdout",
     "output_type": "stream",
     "text": [
      "Average time to food for all alive ants (max_lifespan=100):  7.725524680501818\n",
      "All ants who didnt find food are assumed to be dead.\n",
      "% alive ants:  0.921132\n",
      "It's an unbounded problem with an increasing time limit the average time increases and approaches infinity.\n"
     ]
    }
   ],
   "source": [
    "num_ants = 1000000\n",
    "unbounded_food_line = lambda x, y: -x + 10 == y #if ant is on diagonal line:     y = -mx + c\n",
    "\n",
    "ants = [Ant(max_lifespan=100) for i in range(num_ants)]\n",
    "p = Pool(8)\n",
    "res = p.starmap(simulate, zip(ants, itertools.repeat(unbounded_food_line)))\n",
    "\n",
    "results = [r[1] for r in res if r[0]]\n",
    "\n",
    "print(\"Average time to food for all alive ants (max_lifespan=100): \", np.sum(results) / len(results))\n",
    "print(\"All ants who didnt find food are assumed to be dead.\")\n",
    "print(\"% alive ants: \", len(results)/num_ants)\n",
    "print(\"It's an unbounded problem with an increasing time limit the average time increases and approaches infinity.\")"
   ],
   "metadata": {
    "collapsed": false,
    "pycharm": {
     "name": "#%%\n"
    }
   }
  },
  {
   "cell_type": "markdown",
   "source": [
    "# Question 3\n",
    "Can you write a program that comes up with an estimate of average time to find food for any\n",
    "closed boundary around the anthill?\n",
    "What would be the answer if food is located outside an defined by\n",
    "((x – 2.5cm) / 30cm )2 + ( (y – 2.5cm) / 40cm )2 < 1 in coordinate system\n",
    "where the anthill is located at (x = 0cm, y = 0cm)?\n",
    "Provide us with a solution rounded to the nearest integer."
   ],
   "metadata": {
    "collapsed": false,
    "pycharm": {
     "name": "#%% md\n"
    }
   }
  },
  {
   "cell_type": "code",
   "execution_count": 10,
   "outputs": [
    {
     "name": "stdout",
     "output_type": "stream",
     "text": [
      "Average time taken:  14\n",
      "% alive ants:  1.0\n"
     ]
    }
   ],
   "source": [
    "num_ants = 1000000\n",
    "bounded_area = lambda x, y: ((x-2.5)/30)**2 + ((y-2.5)/40)**2 >= 1 #returns true as soon as ant leaves the area defined by the function (i.e. found food)\n",
    "\n",
    "ants = [Ant() for i in range(num_ants)]\n",
    "p = Pool(8)\n",
    "res = p.starmap(simulate, zip(ants, itertools.repeat(bounded_area)))\n",
    "\n",
    "results = [r[1] for r in res if r[0]]\n",
    "\n",
    "print(\"Average time taken: \", round(np.sum(results) / len(results)))\n",
    "print(\"% alive ants: \", len(results)/num_ants)"
   ],
   "metadata": {
    "collapsed": false,
    "pycharm": {
     "name": "#%%\n"
    }
   }
  },
  {
   "cell_type": "code",
   "execution_count": null,
   "outputs": [],
   "source": [],
   "metadata": {
    "collapsed": false,
    "pycharm": {
     "name": "#%%\n"
    }
   }
  }
 ],
 "metadata": {
  "kernelspec": {
   "display_name": "Python 3",
   "language": "python",
   "name": "python3"
  },
  "language_info": {
   "codemirror_mode": {
    "name": "ipython",
    "version": 2
   },
   "file_extension": ".py",
   "mimetype": "text/x-python",
   "name": "python",
   "nbconvert_exporter": "python",
   "pygments_lexer": "ipython2",
   "version": "2.7.6"
  }
 },
 "nbformat": 4,
 "nbformat_minor": 0
}